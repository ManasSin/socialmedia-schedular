{
 "cells": [
  {
   "cell_type": "code",
   "execution_count": 1,
   "id": "b2d0c38c-6b57-41f5-a2e5-bcc7abee5951",
   "metadata": {},
   "outputs": [],
   "source": [
    "import setup\n",
    "setup.init()"
   ]
  },
  {
   "cell_type": "code",
   "execution_count": 2,
   "id": "71d5c7c1-1b0c-4e81-98fa-8248c72fbbc5",
   "metadata": {},
   "outputs": [],
   "source": [
    "from django.contrib.auth import get_user_model"
   ]
  },
  {
   "cell_type": "code",
   "execution_count": 3,
   "id": "315139fb-545e-4652-bc8c-0c68ec4fc58a",
   "metadata": {},
   "outputs": [],
   "source": [
    "User = get_user_model()"
   ]
  },
  {
   "cell_type": "code",
   "execution_count": 4,
   "id": "199326d5-dfdd-4db6-ae86-f8c1f844110a",
   "metadata": {},
   "outputs": [],
   "source": [
    "linkedin_user = User.objects.get(username='manas')\n",
    "text = \"This should be working, testing post\""
   ]
  },
  {
   "cell_type": "code",
   "execution_count": 5,
   "id": "45c527b1-96dc-49e6-b78e-7e14707586b8",
   "metadata": {},
   "outputs": [],
   "source": [
    "import helpers\n",
    "from helpers import linkedin"
   ]
  },
  {
   "cell_type": "code",
   "execution_count": 6,
   "id": "8f36be6c-e65d-4f33-8ee4-52c92d0e4da2",
   "metadata": {},
   "outputs": [
    {
     "data": {
      "text/plain": [
       "<Response [201]>"
      ]
     },
     "execution_count": 6,
     "metadata": {},
     "output_type": "execute_result"
    }
   ],
   "source": [
    "linkedin.share_linkedin(linkedin_user, text)"
   ]
  },
  {
   "cell_type": "code",
   "execution_count": null,
   "id": "854899f3-7150-4a7c-87cb-d89b90643ebe",
   "metadata": {},
   "outputs": [],
   "source": []
  }
 ],
 "metadata": {
  "kernelspec": {
   "display_name": "Python 3 (ipykernel)",
   "language": "python",
   "name": "python3"
  },
  "language_info": {
   "codemirror_mode": {
    "name": "ipython",
    "version": 3
   },
   "file_extension": ".py",
   "mimetype": "text/x-python",
   "name": "python",
   "nbconvert_exporter": "python",
   "pygments_lexer": "ipython3",
   "version": "3.13.3"
  }
 },
 "nbformat": 4,
 "nbformat_minor": 5
}
