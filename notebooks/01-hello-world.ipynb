{
 "cells": [
  {
   "cell_type": "code",
   "execution_count": 8,
   "id": "b2d0c38c-6b57-41f5-a2e5-bcc7abee5951",
   "metadata": {},
   "outputs": [],
   "source": [
    "import setup\n",
    "setup.init()"
   ]
  },
  {
   "cell_type": "code",
   "execution_count": 9,
   "id": "80d35739-f2d7-4e62-8e4f-a01b8190080a",
   "metadata": {},
   "outputs": [],
   "source": [
    "# print(\"Hello world\")"
   ]
  },
  {
   "cell_type": "code",
   "execution_count": 3,
   "id": "71d5c7c1-1b0c-4e81-98fa-8248c72fbbc5",
   "metadata": {},
   "outputs": [],
   "source": [
    "from django.contrib.auth import get_user_model"
   ]
  },
  {
   "cell_type": "code",
   "execution_count": 14,
   "id": "315139fb-545e-4652-bc8c-0c68ec4fc58a",
   "metadata": {},
   "outputs": [],
   "source": [
    "User = get_user_model()"
   ]
  },
  {
   "cell_type": "code",
   "execution_count": 19,
   "id": "199326d5-dfdd-4db6-ae86-f8c1f844110a",
   "metadata": {},
   "outputs": [
    {
     "data": {
      "text/plain": [
       "'maltisadan12@gmail.com'"
      ]
     },
     "execution_count": 19,
     "metadata": {},
     "output_type": "execute_result"
    }
   ],
   "source": [
    "# qs = User.objects.all()\n",
    "# qs\n",
    "linkedin_user = User.objects.get(username='manas')\n",
    "linkedin_user.email"
   ]
  },
  {
   "cell_type": "code",
   "execution_count": null,
   "id": "45c527b1-96dc-49e6-b78e-7e14707586b8",
   "metadata": {},
   "outputs": [],
   "source": []
  }
 ],
 "metadata": {
  "kernelspec": {
   "display_name": "Python 3 (ipykernel)",
   "language": "python",
   "name": "python3"
  },
  "language_info": {
   "codemirror_mode": {
    "name": "ipython",
    "version": 3
   },
   "file_extension": ".py",
   "mimetype": "text/x-python",
   "name": "python",
   "nbconvert_exporter": "python",
   "pygments_lexer": "ipython3",
   "version": "3.13.3"
  }
 },
 "nbformat": 4,
 "nbformat_minor": 5
}
