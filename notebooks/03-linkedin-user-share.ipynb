{
 "cells": [
  {
   "cell_type": "code",
   "execution_count": 63,
   "id": "b2d0c38c-6b57-41f5-a2e5-bcc7abee5951",
   "metadata": {},
   "outputs": [],
   "source": [
    "import setup\n",
    "setup.init()"
   ]
  },
  {
   "cell_type": "code",
   "execution_count": 64,
   "id": "71d5c7c1-1b0c-4e81-98fa-8248c72fbbc5",
   "metadata": {},
   "outputs": [],
   "source": [
    "from django.contrib.auth import get_user_model"
   ]
  },
  {
   "cell_type": "code",
   "execution_count": 65,
   "id": "315139fb-545e-4652-bc8c-0c68ec4fc58a",
   "metadata": {},
   "outputs": [],
   "source": [
    "User = get_user_model()"
   ]
  },
  {
   "cell_type": "code",
   "execution_count": 66,
   "id": "199326d5-dfdd-4db6-ae86-f8c1f844110a",
   "metadata": {},
   "outputs": [],
   "source": [
    "user = User.objects.get(username='manas')"
   ]
  },
  {
   "cell_type": "code",
   "execution_count": 67,
   "id": "a072270e-d84d-487e-8710-06a68ce68f9b",
   "metadata": {},
   "outputs": [],
   "source": [
    "linkedin_user = user.socialaccount_set.first()\n",
    "# dir(linkedin_user)\n",
    "user_id = linkedin_user.uid"
   ]
  },
  {
   "cell_type": "code",
   "execution_count": 68,
   "id": "77d16517-bed1-44d0-937d-06f094b5e5ba",
   "metadata": {},
   "outputs": [],
   "source": [
    "token = linkedin_user.socialtoken_set.all()"
   ]
  },
  {
   "cell_type": "code",
   "execution_count": 69,
   "id": "db73da13-f97d-4d34-820a-f40436bbfee9",
   "metadata": {},
   "outputs": [],
   "source": [
    "social_token = token.first()"
   ]
  },
  {
   "cell_type": "code",
   "execution_count": 70,
   "id": "cf4d4478-7607-493d-ae86-3bc9dafdfe43",
   "metadata": {},
   "outputs": [],
   "source": [
    "import requests"
   ]
  },
  {
   "cell_type": "code",
   "execution_count": 71,
   "id": "cef56aac-13e9-46d4-98e3-6e26aea19799",
   "metadata": {},
   "outputs": [
    {
     "name": "stdout",
     "output_type": "stream",
     "text": [
      "AQWLP3w0u1eHxKPvi9U2w-FEIn6oWgOGSXVJnBwS6QKUhd00d02xW44bWAsbwnmL-YVJbi9FOFHotd1Td0q2YYreMonKkMC-BvWWn7z19Hx_pIebE-80H54UFV9Y7SRurvWSHoVtgVAGDu5UJxGI4dWWXwOuB-YwhRuCKVrIbvREH42itBBBqd2fmOOfo1OcEZ2ku7dIJAjKI5gT0Ea6TW8qw9_OXbJ_xlV4a7UhAYR2tHrGT__XoKSG-F24hj7aaQUefSvkexMFDsK1nfXa_HoTRdptR2UdGpDY9RlJqaD1-Rjzdzlhw5aRiCFoGxEwvn2BaNejSVcEK46kHr9Ar3ECn2eM-w\n"
     ]
    }
   ],
   "source": [
    "endpoint = 'https://api.linkedin.com/v2/ugcPosts'\n",
    "method = 'POST'\n",
    "token = ''\n",
    "if not social_token:\n",
    "    token = \"\"\n",
    "else:\n",
    "    token = social_token.token\n",
    "print(token)\n",
    "header = {\n",
    "    \"Authorization\": f\"Bearer {token}\",\n",
    "    \"X-Restli-Protocol-Version\": \"2.0.0\"\n",
    "}\n",
    "payload = {\n",
    "    \"author\": f\"urn:li:person:{user_id}\",\n",
    "    \"lifecycleState\": \"PUBLISHED\",\n",
    "    \"specificContent\": {\n",
    "        \"com.linkedin.ugc.ShareContent\": {\n",
    "            \"shareCommentary\": {\n",
    "                \"text\": \"Hello World! This is my first Share on LinkedIn!\"\n",
    "            },\n",
    "            \"shareMediaCategory\": \"NONE\"\n",
    "        }\n",
    "    },\n",
    "    \"visibility\": {\n",
    "        \"com.linkedin.ugc.MemberNetworkVisibility\": \"PUBLIC\" \n",
    "    }\n",
    "}"
   ]
  },
  {
   "cell_type": "code",
   "execution_count": 72,
   "id": "51d1f3ef-07ea-4a97-a8d1-b478afb0832c",
   "metadata": {},
   "outputs": [],
   "source": [
    "# response = requests.post(endpoint, headers=header, json=payload)\n",
    "# response.raise_for_status()"
   ]
  },
  {
   "cell_type": "code",
   "execution_count": null,
   "id": "81dcc28b-d6e3-4780-a92f-cf8d5bcb105d",
   "metadata": {},
   "outputs": [],
   "source": []
  }
 ],
 "metadata": {
  "kernelspec": {
   "display_name": "Python 3 (ipykernel)",
   "language": "python",
   "name": "python3"
  },
  "language_info": {
   "codemirror_mode": {
    "name": "ipython",
    "version": 3
   },
   "file_extension": ".py",
   "mimetype": "text/x-python",
   "name": "python",
   "nbconvert_exporter": "python",
   "pygments_lexer": "ipython3",
   "version": "3.13.3"
  }
 },
 "nbformat": 4,
 "nbformat_minor": 5
}
