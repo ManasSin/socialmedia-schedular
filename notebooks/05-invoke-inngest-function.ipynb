{
 "cells": [
  {
   "cell_type": "code",
   "execution_count": 1,
   "id": "b2d0c38c-6b57-41f5-a2e5-bcc7abee5951",
   "metadata": {},
   "outputs": [],
   "source": [
    "import setup\n",
    "setup.init()"
   ]
  },
  {
   "cell_type": "code",
   "execution_count": 2,
   "id": "d37914dc-c4ea-4bdd-a934-c4f43f0ea0ae",
   "metadata": {},
   "outputs": [],
   "source": [
    "import inngest\n",
    "from schedular.client import inngest_client"
   ]
  },
  {
   "cell_type": "code",
   "execution_count": 6,
   "id": "dd615770-c1cf-42cf-b951-f83fc9053fe8",
   "metadata": {},
   "outputs": [
    {
     "data": {
      "text/plain": [
       "['01K2AAS0AXBA8QB7AQFAV7CHST']"
      ]
     },
     "execution_count": 6,
     "metadata": {},
     "output_type": "execute_result"
    }
   ],
   "source": [
    "await inngest_client.send(\n",
    "    inngest.Event(\n",
    "        name='app/my_function',\n",
    "        data={\"foo\":\"bar\"}\n",
    "    )\n",
    ")"
   ]
  },
  {
   "cell_type": "code",
   "execution_count": 7,
   "id": "d484be0d-bae3-44f7-821b-f3449f10aa66",
   "metadata": {},
   "outputs": [
    {
     "data": {
      "text/plain": [
       "['01K2AAS0NMVNB9DG4THRD8X63X']"
      ]
     },
     "execution_count": 7,
     "metadata": {},
     "output_type": "execute_result"
    }
   ],
   "source": [
    "inngest_client.send_sync(\n",
    "    inngest.Event(\n",
    "        name='app/my_function',\n",
    "        data={\"foo\":\"bar\"}\n",
    "    )\n",
    ")"
   ]
  },
  {
   "cell_type": "code",
   "execution_count": null,
   "id": "644482bc-b9e3-4b3b-b995-1abd30dd5031",
   "metadata": {},
   "outputs": [],
   "source": []
  }
 ],
 "metadata": {
  "kernelspec": {
   "display_name": "Python 3 (ipykernel)",
   "language": "python",
   "name": "python3"
  },
  "language_info": {
   "codemirror_mode": {
    "name": "ipython",
    "version": 3
   },
   "file_extension": ".py",
   "mimetype": "text/x-python",
   "name": "python",
   "nbconvert_exporter": "python",
   "pygments_lexer": "ipython3",
   "version": "3.13.3"
  }
 },
 "nbformat": 4,
 "nbformat_minor": 5
}
