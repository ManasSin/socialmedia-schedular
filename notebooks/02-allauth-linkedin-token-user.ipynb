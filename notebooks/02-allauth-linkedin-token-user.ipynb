{
 "cells": [
  {
   "cell_type": "code",
   "execution_count": null,
   "id": "b2d0c38c-6b57-41f5-a2e5-bcc7abee5951",
   "metadata": {},
   "outputs": [],
   "source": [
    "import setup\n",
    "setup.init()"
   ]
  },
  {
   "cell_type": "code",
   "execution_count": null,
   "id": "71d5c7c1-1b0c-4e81-98fa-8248c72fbbc5",
   "metadata": {},
   "outputs": [],
   "source": [
    "from django.contrib.auth import get_user_model"
   ]
  },
  {
   "cell_type": "code",
   "execution_count": null,
   "id": "315139fb-545e-4652-bc8c-0c68ec4fc58a",
   "metadata": {},
   "outputs": [],
   "source": [
    "User = get_user_model()"
   ]
  },
  {
   "cell_type": "code",
   "execution_count": null,
   "id": "199326d5-dfdd-4db6-ae86-f8c1f844110a",
   "metadata": {},
   "outputs": [],
   "source": [
    "user = User.objects.get(username='manas')\n",
    "user.email"
   ]
  },
  {
   "cell_type": "code",
   "execution_count": null,
   "id": "45c527b1-96dc-49e6-b78e-7e14707586b8",
   "metadata": {},
   "outputs": [],
   "source": [
    "dir(user)"
   ]
  },
  {
   "cell_type": "code",
   "execution_count": null,
   "id": "a072270e-d84d-487e-8710-06a68ce68f9b",
   "metadata": {},
   "outputs": [],
   "source": [
    "linkedin_user = user.socialaccount_set.first()\n",
    "dir(linkedin_user)"
   ]
  },
  {
   "cell_type": "code",
   "execution_count": null,
   "id": "77d16517-bed1-44d0-937d-06f094b5e5ba",
   "metadata": {},
   "outputs": [],
   "source": [
    "token = linkedin_user.socialtoken_set.all()\n",
    "dir(token)"
   ]
  },
  {
   "cell_type": "code",
   "execution_count": null,
   "id": "db73da13-f97d-4d34-820a-f40436bbfee9",
   "metadata": {},
   "outputs": [],
   "source": [
    "social_token = token.first()"
   ]
  },
  {
   "cell_type": "code",
   "execution_count": null,
   "id": "cf4d4478-7607-493d-ae86-3bc9dafdfe43",
   "metadata": {},
   "outputs": [],
   "source": []
  }
 ],
 "metadata": {
  "kernelspec": {
   "display_name": "Python 3 (ipykernel)",
   "language": "python",
   "name": "python3"
  },
  "language_info": {
   "codemirror_mode": {
    "name": "ipython",
    "version": 3
   },
   "file_extension": ".py",
   "mimetype": "text/x-python",
   "name": "python",
   "nbconvert_exporter": "python",
   "pygments_lexer": "ipython3",
   "version": "3.13.3"
  }
 },
 "nbformat": 4,
 "nbformat_minor": 5
}
